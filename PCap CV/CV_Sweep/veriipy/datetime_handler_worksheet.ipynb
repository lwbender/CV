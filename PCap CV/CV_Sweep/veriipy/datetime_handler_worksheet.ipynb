{
 "cells": [
  {
   "cell_type": "code",
   "execution_count": 103,
   "metadata": {
    "collapsed": false
   },
   "outputs": [
    {
     "name": "stdout",
     "output_type": "stream",
     "text": [
      "The autoreload extension is already loaded. To reload it, use:\n",
      "  %reload_ext autoreload\n"
     ]
    }
   ],
   "source": [
    "'''\n",
    "# author: Mark R. Yoder, Ph.D.\n",
    "# email: myoder@landauer.com\n",
    "#\t\tmark.yoder@gmail.com\n",
    "#\n",
    "# Code property of: Landauer Inc.\n",
    "#\n",
    "# datetime handler worksheet.\n",
    "#\n",
    "# summary:\n",
    "# we get dates and datetimes in a bunch of different formats; we want to make a generic handler for all of them.\n",
    "# expected types are:\n",
    "# - datetime strings in various formats:\n",
    "#    - date delimiters: '/', '-'\n",
    "#    - date-time delimter: \\t, ' ', ??\n",
    "#    - time delimiters: ':' ??\n",
    "#    - miliseconds or fractional seconds?\n",
    "# - datetime.date, datetime.datetime (it should be easy to interchange these)\n",
    "# - numpy.datetime64 (or something like that): these tends to come from matplotlib.dates\n",
    "#    - this is easily converted to a datetime.datetime via list(x)... i think.\n",
    "# - let's maybe also add a hanlder that assumes UTC for \"naive\" date types.\n",
    "# - use whatever it takes, including matplotlib.dates and just require these libraries.\n",
    "'''\n",
    "%load_ext autoreload\n",
    "%autoreload 2\n",
    "\n",
    "import numpy\n",
    "import matplotlib.dates as mpd\n",
    "import datetime as dtm\n",
    "import pytz\n",
    "#\n",
    "#import datetime_handler as dhp\n",
    "from data_type_wranglers import *"
   ]
  },
  {
   "cell_type": "code",
   "execution_count": 104,
   "metadata": {
    "collapsed": false
   },
   "outputs": [],
   "source": [
    "def datetime_handler_unit_tests():\n",
    "#\n",
    "    # TODO: figure out how to get the local timezone so we can properly evaluate whether or not the timezone\n",
    "    # conversions work. right now, i'm just making them work from CDT.\n",
    "    #\n",
    "    # lay out some scenarios and the expected equality to dtm0 ([[date_entry, equals_dtm0], ...])\n",
    "    dtm0 = dtm.datetime(2016,5,10,11,25,10,int(.77*1e6))\n",
    "    f_dtm0 = mpd.date2num(dtm0)\n",
    "    # string format variations:\n",
    "    dtstrs = [['2016-05-10 11:25:10.77', True], ['2016/05/10 11:25:10.77', True], ['2016-05-10 11:25:10.77', True],\n",
    "              ['2016/05/10 11:25:10.77', True], ['5-10-2016  11:25:10.77', True], ['5/10/2016  11:25:10.77', True],\n",
    "              ['05-10-2016  11:25:10.77', True]]\n",
    "    # now, timezone information and variations:\n",
    "    dtstrs += [['5-10-2016  11:25:10.77+00:00', True], ['5-10-2016  11:25:10.77+01:00', False],\n",
    "              ['5-10-2016  11:25:10.77+02:00', False], ['5-10-2016  7:25:10.77-04:00', True]]\n",
    "    #\n",
    "    # some datetime objects, including with tz variability.\n",
    "    # ... but these are tricky because, apparently, US/Eastern timezone is not -5, but -4:56\n",
    "    # and Central is not -6, but -5:51... which totally makes sense.\n",
    "    # ... but some versions of pytz appear to use the integer values, so this will be a screwy test to diagnose.\n",
    "    dtstrs += [[dtm.datetime(2016,5,10,11,25,10,int(.77*1e6)), True], \n",
    "               [dtm.datetime(2016,5,10,11,25,10,int(.77*1e6), pytz.timezone('UTC')), True],\n",
    "               [dtm.datetime(2016,5,10,6,29,10,int(.77*1e6), pytz.timezone('US/Eastern')), True],\n",
    "               [dtm.datetime(2016,5,10,5,34,10,int(.77*1e6), pytz.timezone('US/Central')), True],\n",
    "               [dtm.datetime(2016,5,10,11,25,10,int(.77*1e6), pytz.timezone('US/Central')), False]\n",
    "              ]\n",
    "    #\n",
    "    # ... and how 'bout those stupid numpy.datetime64 objects. ugh...\n",
    "    # note some syntax: these are rec-array types, so they have an expected length. month, day, etc. entries must\n",
    "    # be len=2, so \"-05\", not \"-5\". also note that when we give it a time-zone, it will return something in the local\n",
    "    # time but with the timezone info included.\n",
    "    # the\n",
    "    dtstrs += [[numpy.datetime64('2016-05-10 11:25:10.77'), False], \n",
    "              [numpy.datetime64('2016-05-10 11:25:10.77+04:00'), False],\n",
    "              [numpy.datetime64('2016-05-10 11:25:10.77-03:00'), False], \n",
    "              [numpy.datetime64('2016-05-10 11:25:10.77-00:00'), True]\n",
    "              ]\n",
    "    #\n",
    "    failed_tests = []\n",
    "    #\n",
    "    print(\"target datetime: {}\".format(dtm0))\n",
    "    for j, (dt, t_f) in  enumerate(dtstrs):\n",
    "        dtm_processed = datetime_handler(dt, tz_out=tz_utc)\n",
    "        #\n",
    "        # we want to check equality, but we can get small differences in microseconds.\n",
    "        # we can't subtract (not)-naive types, so convert to numbers...\n",
    "        #delta_t = f_dtm0-mpd.date2num(dtm_processed)\n",
    "        is_equal = mpd.date2num(dtm_processed)==f_dtm0\n",
    "        did_pass = (is_equal==t_f)\n",
    "        if not did_pass: failed_tests += [[j,dt,t_f]]\n",
    "        print('({}) dt_{}[{}::({})]: {} :: {}'.format('pass' if did_pass else 'fail', j, is_equal, t_f, dt, dtm_processed))\n",
    "        #\n",
    "    #\n",
    "    n_failed = len(failed_tests)\n",
    "    n_total  = len(dtstrs)\n",
    "    print('\\n\\n{}% ({} of {}) of tests passed.'.format(100.*(n_total-n_failed)/n_total, (n_total-n_failed), n_total))\n",
    "    \n",
    "    if len(failed_tests)>0:\n",
    "        print(\"[{}/{}] failed tests: \".format(n_failed, n_total))\n",
    "        for rw in failed_tests:\n",
    "            print('{}'.format(rw))\n",
    "    else:\n",
    "        print('All tests passed!')\n",
    "#\n",
    "\n",
    "\n",
    "\n"
   ]
  },
  {
   "cell_type": "code",
   "execution_count": 105,
   "metadata": {
    "collapsed": false
   },
   "outputs": [
    {
     "name": "stdout",
     "output_type": "stream",
     "text": [
      "target datetime: 2016-05-10 11:25:10.770000\n",
      "(pass) dt_0[True::(True)]: 2016-05-10 11:25:10.77 :: 2016-05-10 11:25:10.770002+00:00\n",
      "(pass) dt_1[True::(True)]: 2016/05/10 11:25:10.77 :: 2016-05-10 11:25:10.770002+00:00\n",
      "(pass) dt_2[True::(True)]: 2016-05-10 11:25:10.77 :: 2016-05-10 11:25:10.770002+00:00\n",
      "(pass) dt_3[True::(True)]: 2016/05/10 11:25:10.77 :: 2016-05-10 11:25:10.770002+00:00\n",
      "(pass) dt_4[True::(True)]: 5-10-2016  11:25:10.77 :: 2016-05-10 11:25:10.770002+00:00\n",
      "(pass) dt_5[True::(True)]: 5/10/2016  11:25:10.77 :: 2016-05-10 11:25:10.770002+00:00\n",
      "(pass) dt_6[True::(True)]: 05-10-2016  11:25:10.77 :: 2016-05-10 11:25:10.770002+00:00\n",
      "(pass) dt_7[True::(True)]: 5-10-2016  11:25:10.77+00:00 :: 2016-05-10 11:25:10.770002+00:00\n",
      "(pass) dt_8[False::(False)]: 5-10-2016  11:25:10.77+01:00 :: 2016-05-10 10:25:10.769995+00:00\n",
      "(pass) dt_9[False::(False)]: 5-10-2016  11:25:10.77+02:00 :: 2016-05-10 09:25:10.769999+00:00\n",
      "(pass) dt_10[True::(True)]: 5-10-2016  7:25:10.77-04:00 :: 2016-05-10 11:25:10.770002+00:00\n",
      "(pass) dt_11[True::(True)]: 2016-05-10 11:25:10.770000 :: 2016-05-10 11:25:10.770000\n",
      "(pass) dt_12[True::(True)]: 2016-05-10 11:25:10.770000+00:00 :: 2016-05-10 11:25:10.770000+00:00\n",
      "(pass) dt_13[True::(True)]: 2016-05-10 06:29:10.770000-04:56 :: 2016-05-10 06:29:10.770000-04:56\n",
      "(pass) dt_14[True::(True)]: 2016-05-10 05:34:10.770000-05:51 :: 2016-05-10 05:34:10.770000-05:51\n",
      "(pass) dt_15[False::(False)]: 2016-05-10 11:25:10.770000-05:51 :: 2016-05-10 11:25:10.770000-05:51\n",
      "(pass) dt_16[False::(False)]: 2016-05-10T11:25:10.770-0500 :: 2016-05-10 16:25:10.769995+00:00\n",
      "(pass) dt_17[False::(False)]: 2016-05-10T02:25:10.770-0500 :: 2016-05-10 07:25:10.769995+00:00\n",
      "(pass) dt_18[False::(False)]: 2016-05-10T09:25:10.770-0500 :: 2016-05-10 14:25:10.770002+00:00\n",
      "(pass) dt_19[True::(True)]: 2016-05-10T06:25:10.770-0500 :: 2016-05-10 11:25:10.770002+00:00\n",
      "\n",
      "\n",
      "100.0% (20 of 20) of tests passed.\n",
      "All tests passed!\n"
     ]
    }
   ],
   "source": [
    "aa=datetime_handler_unit_tests()"
   ]
  },
  {
   "cell_type": "code",
   "execution_count": null,
   "metadata": {
    "collapsed": true
   },
   "outputs": [],
   "source": []
  },
  {
   "cell_type": "code",
   "execution_count": null,
   "metadata": {
    "collapsed": true
   },
   "outputs": [],
   "source": []
  }
 ],
 "metadata": {
  "kernelspec": {
   "display_name": "Python 3",
   "language": "python",
   "name": "python3"
  },
  "language_info": {
   "codemirror_mode": {
    "name": "ipython",
    "version": 3
   },
   "file_extension": ".py",
   "mimetype": "text/x-python",
   "name": "python",
   "nbconvert_exporter": "python",
   "pygments_lexer": "ipython3",
   "version": "3.5.1"
  }
 },
 "nbformat": 4,
 "nbformat_minor": 0
}
